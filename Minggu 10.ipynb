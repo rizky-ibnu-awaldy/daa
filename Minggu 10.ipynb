{
 "cells": [
  {
   "cell_type": "markdown",
   "metadata": {},
   "source": [
    "# Linear Programming\n",
    "## Menggunakan Pulp\n",
    "### Suatu pabrik (factory) menjalankan siklus 30 hari. Seorang AI Specialist bekerja selama 30 hari. Dua orang Engineer secara bergantian mengambil 8 hari libur dalam 30 hari. Seorang teknisi bekerja selama 20 hari dari siklus 30 hari."
   ]
  },
  {
   "cell_type": "code",
   "execution_count": 13,
   "metadata": {},
   "outputs": [],
   "source": [
    "import pulp"
   ]
  },
  {
   "cell_type": "code",
   "execution_count": 14,
   "metadata": {
    "scrolled": true
   },
   "outputs": [],
   "source": [
    "# Menginstanisasi kelas menjado model nama LpMaximize\n",
    "model = pulp.LpProblem(\"ProfitMaxmisingProblem\", pulp.LpMaximize)"
   ]
  },
  {
   "cell_type": "code",
   "execution_count": 15,
   "metadata": {},
   "outputs": [],
   "source": [
    "A = pulp.LpVariable('A', lowBound=0, cat='Integer')\n",
    "B = pulp.LpVariable('B', lowBound=0, cat='Integer')"
   ]
  },
  {
   "cell_type": "code",
   "execution_count": 16,
   "metadata": {},
   "outputs": [],
   "source": [
    "# Membuat fungsi dan constrain\n",
    "\n",
    "# Objective function\n",
    "model += 5000 * A + 2500 * B, \"profit\" \n",
    "# Constraints\n",
    "model += 3 * A + 2 * B <= 20 \n",
    "model += 4 * A + 3 * B <= 30 \n",
    "model += 4 * A + 3 * B <= 44"
   ]
  },
  {
   "cell_type": "code",
   "execution_count": 17,
   "metadata": {},
   "outputs": [
    {
     "data": {
      "text/plain": [
       "'Optimal'"
      ]
     },
     "execution_count": 17,
     "metadata": {},
     "output_type": "execute_result"
    }
   ],
   "source": [
    "# Menyelesaikan problem linear programming\n",
    "model.solve()\n",
    "pulp.LpStatus[model.status]"
   ]
  },
  {
   "cell_type": "code",
   "execution_count": 18,
   "metadata": {},
   "outputs": [
    {
     "name": "stdout",
     "output_type": "stream",
     "text": [
      "6.0\n"
     ]
    }
   ],
   "source": [
    "print(A.varValue)"
   ]
  },
  {
   "cell_type": "code",
   "execution_count": 19,
   "metadata": {},
   "outputs": [
    {
     "name": "stdout",
     "output_type": "stream",
     "text": [
      "1.0\n"
     ]
    }
   ],
   "source": [
    "print(B.varValue)"
   ]
  },
  {
   "cell_type": "code",
   "execution_count": 20,
   "metadata": {},
   "outputs": [
    {
     "name": "stdout",
     "output_type": "stream",
     "text": [
      "32500.0\n"
     ]
    }
   ],
   "source": [
    "print(pulp.value(model.objective))"
   ]
  },
  {
   "cell_type": "markdown",
   "metadata": {},
   "source": [
    "## II Menggunakan Scipy\n",
    "### max z = 5X1 + 7X2 dimana\n",
    "\n",
    "### 1X1 + 0X2 <= 16,\n",
    "### 2X1 + 3X2 <= 19,\n",
    "### 1X1 + 1X2 <= 8,\n",
    "\n",
    "### X1, X2 >= 0"
   ]
  },
  {
   "cell_type": "code",
   "execution_count": 21,
   "metadata": {},
   "outputs": [],
   "source": [
    "# 1. Import Scipy dan linprog\n",
    "# Import required Libraries\n",
    "import numpy as np\n",
    "from scipy.optimize import linprog"
   ]
  },
  {
   "cell_type": "code",
   "execution_count": 22,
   "metadata": {},
   "outputs": [],
   "source": [
    "# Susun array a berdasarkan koefisien x1 dan x2 pada pertidaksamaan constrains\n",
    "# Set the inequality constrains matrix\n",
    "# Note: the inequality constrains must be in the form of <=\n",
    "A = np.array([[1, 0], [2, 3], [1, 1], [-1, 0], [0, -1]])"
   ]
  },
  {
   "cell_type": "code",
   "execution_count": 23,
   "metadata": {},
   "outputs": [],
   "source": [
    "# Susun array b berdasarkan pertidaksamaan vektor constrains\n",
    "# set the inequality constraints vector\n",
    "b = np.array([16, 19, 8, 0,  0])"
   ]
  },
  {
   "cell_type": "code",
   "execution_count": 24,
   "metadata": {},
   "outputs": [],
   "source": [
    "# Array c merupakan koefisien vektor. Ketika maximizing, ubah tanda koefisien (bila positif menjadi negarif)\n",
    "# set the coefficients of the linear objective function vector\n",
    "# Note: when maximizing, change the sign of the c vector coefficient\n",
    "c = np.array([-5, -7])"
   ]
  },
  {
   "cell_type": "code",
   "execution_count": 25,
   "metadata": {},
   "outputs": [],
   "source": [
    "# Meyelesaikan problem linear programing\n",
    "# solve linear programming problem\n",
    "res = linprog(c, A_ub=A, b_ub=b)"
   ]
  },
  {
   "cell_type": "code",
   "execution_count": 27,
   "metadata": {},
   "outputs": [
    {
     "name": "stdout",
     "output_type": "stream",
     "text": [
      "Optimal value: 46.0 \n",
      "x values: [5. 3.] \n",
      "Number of iterations performed: 5 \n",
      "Status: Optimization terminated successfully.\n"
     ]
    }
   ],
   "source": [
    "#print result\n",
    "print('Optimal value:', round(res.fun*-1, ndigits=2),\n",
    "     '\\nx values:', res.x,\n",
    "     '\\nNumber of iterations performed:', res.nit,\n",
    "     '\\nStatus:', res.message)"
   ]
  },
  {
   "cell_type": "code",
   "execution_count": null,
   "metadata": {},
   "outputs": [],
   "source": []
  }
 ],
 "metadata": {
  "kernelspec": {
   "display_name": "Python 3",
   "language": "python",
   "name": "python3"
  },
  "language_info": {
   "codemirror_mode": {
    "name": "ipython",
    "version": 3
   },
   "file_extension": ".py",
   "mimetype": "text/x-python",
   "name": "python",
   "nbconvert_exporter": "python",
   "pygments_lexer": "ipython3",
   "version": "3.8.3"
  }
 },
 "nbformat": 4,
 "nbformat_minor": 4
}
