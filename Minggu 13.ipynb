{
 "cells": [
  {
   "cell_type": "markdown",
   "metadata": {},
   "source": [
    "# Algoritma Breadth First Search"
   ]
  },
  {
   "cell_type": "code",
   "execution_count": 1,
   "metadata": {},
   "outputs": [],
   "source": [
    "graph={'Amin' : {'Wasim', 'Nick', 'Mike'},\n",
    "        'Wasim' : {'Imran', 'Amin'},\n",
    "        'Imran' : {'Wasim', 'Faras'},\n",
    "        'Faras' : {'Imran'},\n",
    "        'Mike' : {'Amin'},\n",
    "        'Nick' : {'Amin'}}"
   ]
  },
  {
   "cell_type": "code",
   "execution_count": 4,
   "metadata": {},
   "outputs": [],
   "source": [
    "def bfs(graph, start):\n",
    "    visited = []\n",
    "    queue = [start]\n",
    "    \n",
    "    while queue:\n",
    "        node = queue.pop(0)\n",
    "        if node not in visited:\n",
    "            visited.append(node)\n",
    "            neighbours = graph[node]\n",
    "            for neighbour in neighbours:\n",
    "                queue.append(neighbour)\n",
    "    return visited"
   ]
  },
  {
   "cell_type": "code",
   "execution_count": 5,
   "metadata": {},
   "outputs": [
    {
     "data": {
      "text/plain": [
       "['Amin', 'Mike', 'Nick', 'Wasim', 'Imran', 'Faras']"
      ]
     },
     "execution_count": 5,
     "metadata": {},
     "output_type": "execute_result"
    }
   ],
   "source": [
    "# O amin---------------------\n",
    "# |             |           |\n",
    "# O wasim       O nick      O mike\n",
    "# |\n",
    "# O imran\n",
    "# |\n",
    "# O faras\n",
    "\n",
    "bfs(graph, 'Amin')"
   ]
  },
  {
   "cell_type": "code",
   "execution_count": 6,
   "metadata": {},
   "outputs": [
    {
     "data": {
      "text/plain": [
       "['Wasim', 'Imran', 'Amin', 'Faras', 'Mike', 'Nick']"
      ]
     },
     "execution_count": 6,
     "metadata": {},
     "output_type": "execute_result"
    }
   ],
   "source": [
    "# O wasim------\n",
    "# |           |\n",
    "# O imran     O amin-----\n",
    "# |           |         |\n",
    "# O faras     O nick    O mike\n",
    "\n",
    "bfs(graph, 'Wasim')"
   ]
  },
  {
   "cell_type": "code",
   "execution_count": 8,
   "metadata": {},
   "outputs": [
    {
     "data": {
      "text/plain": [
       "['Faras', 'Imran', 'Wasim', 'Amin', 'Mike', 'Nick']"
      ]
     },
     "execution_count": 8,
     "metadata": {},
     "output_type": "execute_result"
    }
   ],
   "source": [
    "# O faras\n",
    "# |\n",
    "# O imran\n",
    "# |\n",
    "# O wasim   O Nick    O mike\n",
    "# |         |         |\n",
    "# O amin---------------\n",
    "\n",
    "\n",
    "bfs(graph, 'Faras')"
   ]
  },
  {
   "cell_type": "markdown",
   "metadata": {},
   "source": [
    "# Algoritma Depth First Search"
   ]
  },
  {
   "cell_type": "code",
   "execution_count": 25,
   "metadata": {},
   "outputs": [],
   "source": [
    "def dfs(graph1, start, visited=None):\n",
    "    if visited is None:\n",
    "        visited = set()\n",
    "    visited.add(start)\n",
    "    print(start)\n",
    "    for next in graph1[start] - visited:\n",
    "         dfs(graph1, next, visited)\n",
    "    return visited    "
   ]
  },
  {
   "cell_type": "code",
   "execution_count": 26,
   "metadata": {},
   "outputs": [],
   "source": [
    "graph1={ 'Amin' : {'Wasim', 'Nick', 'Mike'},\n",
    "         'Wasim' : {'Imran', 'Amin'},\n",
    "         'Imran' : {'Wasim', 'Faras'},\n",
    "         'Faras' : {'Imran'},\n",
    "         'Mike' : {'Amin'},\n",
    "         'Nick' : {'Amin'}}"
   ]
  },
  {
   "cell_type": "code",
   "execution_count": 27,
   "metadata": {},
   "outputs": [
    {
     "name": "stdout",
     "output_type": "stream",
     "text": [
      "Amin\n",
      "Mike\n",
      "Wasim\n",
      "Imran\n",
      "Faras\n",
      "Nick\n"
     ]
    },
    {
     "data": {
      "text/plain": [
       "{'Amin', 'Faras', 'Imran', 'Mike', 'Nick', 'Wasim'}"
      ]
     },
     "execution_count": 27,
     "metadata": {},
     "output_type": "execute_result"
    }
   ],
   "source": [
    "# O amin--------------------\n",
    "# |            |           |\n",
    "# O wasim      O nick      O mike\n",
    "# |\n",
    "# O imran\n",
    "# |\n",
    "# O faras\n",
    "#\n",
    "# turun dari amin ke faras, geser ke nick & mike\n",
    "\n",
    "\n",
    "dfs(graph1, 'Amin')"
   ]
  },
  {
   "cell_type": "code",
   "execution_count": 28,
   "metadata": {},
   "outputs": [
    {
     "name": "stdout",
     "output_type": "stream",
     "text": [
      "Wasim\n",
      "Imran\n",
      "Faras\n",
      "Amin\n",
      "Mike\n",
      "Nick\n"
     ]
    },
    {
     "data": {
      "text/plain": [
       "{'Amin', 'Faras', 'Imran', 'Mike', 'Nick', 'Wasim'}"
      ]
     },
     "execution_count": 28,
     "metadata": {},
     "output_type": "execute_result"
    }
   ],
   "source": [
    "# O amin--------------------\n",
    "# |            |           |\n",
    "# O wasim      O nick      O mike\n",
    "# |\n",
    "# O imran\n",
    "# |\n",
    "# O faras\n",
    "#\n",
    "# turun dari wasim ke faras, naik ke amin, geser ke nick & mike\n",
    "\n",
    "\n",
    "dfs(graph1, 'Wasim')"
   ]
  },
  {
   "cell_type": "code",
   "execution_count": 29,
   "metadata": {},
   "outputs": [
    {
     "name": "stdout",
     "output_type": "stream",
     "text": [
      "Faras\n",
      "Imran\n",
      "Wasim\n",
      "Amin\n",
      "Mike\n",
      "Nick\n"
     ]
    },
    {
     "data": {
      "text/plain": [
       "{'Amin', 'Faras', 'Imran', 'Mike', 'Nick', 'Wasim'}"
      ]
     },
     "execution_count": 29,
     "metadata": {},
     "output_type": "execute_result"
    }
   ],
   "source": [
    "# O amin--------------------\n",
    "# |            |           |\n",
    "# O wasim      O nick      O mike\n",
    "# |\n",
    "# O imran\n",
    "# |\n",
    "# O faras\n",
    "#\n",
    "# naik dari faras ke amin, geser ke nick & mike\n",
    "\n",
    "\n",
    "dfs(graph1, 'Faras')"
   ]
  },
  {
   "cell_type": "code",
   "execution_count": 30,
   "metadata": {},
   "outputs": [
    {
     "name": "stdout",
     "output_type": "stream",
     "text": [
      "Nick\n",
      "Amin\n",
      "Mike\n",
      "Wasim\n",
      "Imran\n",
      "Faras\n"
     ]
    },
    {
     "data": {
      "text/plain": [
       "{'Amin', 'Faras', 'Imran', 'Mike', 'Nick', 'Wasim'}"
      ]
     },
     "execution_count": 30,
     "metadata": {},
     "output_type": "execute_result"
    }
   ],
   "source": [
    "# O amin--------------------\n",
    "# |            |           |\n",
    "# O wasim      O nick      O mike\n",
    "# |\n",
    "# O imran\n",
    "# |\n",
    "# O faras\n",
    "#\n",
    "# naik nick ke amin, turun ke faras, geser ke mike\n",
    "\n",
    "\n",
    "dfs(graph1, 'Nick')"
   ]
  },
  {
   "cell_type": "code",
   "execution_count": null,
   "metadata": {},
   "outputs": [],
   "source": []
  }
 ],
 "metadata": {
  "kernelspec": {
   "display_name": "Python 3",
   "language": "python",
   "name": "python3"
  },
  "language_info": {
   "codemirror_mode": {
    "name": "ipython",
    "version": 3
   },
   "file_extension": ".py",
   "mimetype": "text/x-python",
   "name": "python",
   "nbconvert_exporter": "python",
   "pygments_lexer": "ipython3",
   "version": "3.8.3"
  }
 },
 "nbformat": 4,
 "nbformat_minor": 4
}
