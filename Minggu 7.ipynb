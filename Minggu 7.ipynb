{
 "cells": [
  {
   "cell_type": "markdown",
   "metadata": {},
   "source": [
    "### Algoritma Brute Force: Traveling Salsesman Problem (TSP)\n",
    "## Algoritma Brute Force\n",
    "#### Penerapan Algoritma Greedy pada TSP (Traveling Salesman/ Salesperson Problem)"
   ]
  },
  {
   "cell_type": "code",
   "execution_count": 11,
   "metadata": {},
   "outputs": [],
   "source": [
    "import random\n",
    "from itertools import permutations\n",
    "alltours = permutations\n",
    "\n",
    "def distance_tour(aTour):\n",
    "    return sum(distance_points(aTour[i - 1], aTour[i])\n",
    "        for i in range(len(aTour)))\n",
    "\n",
    "aCity = complex\n",
    "\n",
    "def distance_points(first, second):\n",
    "    return abs(first - second)\n",
    "\n",
    "def generate_cities (number_of_cities):\n",
    "    seed=111;width=500;height=300\n",
    "    random.seed((number_of_cities, seed))\n",
    "    return frozenset(aCity(random.randint(1, width), random.randint(1,height))\n",
    "                    for c in range(number_of_cities))"
   ]
  },
  {
   "cell_type": "code",
   "execution_count": 12,
   "metadata": {},
   "outputs": [],
   "source": [
    "%matplotlib inline\n",
    "import matplotlib.pyplot as plt\n",
    "\n",
    "def visualize_tour(tour, style='bo-'):\n",
    "    if len(tour) > 1000: plt.figure(figsize=(15, 10))\n",
    "    start = tour[0:1]\n",
    "    visualize_segment(tour + start, style)\n",
    "    visualize_segment(start, 'rD')\n",
    "def visualize_segment (segment, style='bo-'):\n",
    "         plt.plot([X(c) for c in segment], [Y(c) for c in segment], style, clip_on=False)\n",
    "\n",
    "def X(city): \"X axis\"; return city.real\n",
    "\n",
    "def Y(city): \"Y axis\"; return city.imag"
   ]
  },
  {
   "cell_type": "code",
   "execution_count": 13,
   "metadata": {},
   "outputs": [],
   "source": [
    "from time import process_time\n",
    "from collections import Counter\n",
    "def tsp(algorithm, cities):\n",
    "    t0 = process_time()\n",
    "    tour = algorithm(cities)\n",
    "    t1 = process_time()\n",
    "    assert Counter(tour) == Counter(cities)\n",
    "    visualize_tour(tour)\n",
    "    print(\"{}:{} cities => tour length {:.0f}(in {:.3f} sec)\".format(name(algorithm), len(tour), distance_tour(tour), t1-t0))\n",
    "    \n",
    "def name(algorithm): return algorithm.__name__.replace('_tsp','')"
   ]
  },
  {
   "cell_type": "code",
   "execution_count": 14,
   "metadata": {},
   "outputs": [],
   "source": [
    "def brute_force(cities):\n",
    "    \"Generate all possible tours of the cities and choose the shortest tour.\"\n",
    "    return shortest_tour(alltours(cities))\n",
    "def shortest_tour(tours): return min(tours, key=distance_tour)"
   ]
  },
  {
   "cell_type": "code",
   "execution_count": 15,
   "metadata": {},
   "outputs": [
    {
     "name": "stdout",
     "output_type": "stream",
     "text": [
      "brute_force:10 cities => tour length 1224(in 12.734 sec)\n"
     ]
    },
    {
     "data": {
      "image/png": "[encoded data removed]",
      "text/plain": [
       "<Figure size 432x288 with 1 Axes>"
      ]
     },
     "metadata": {
      "needs_background": "light"
     },
     "output_type": "display_data"
    }
   ],
   "source": [
    "tsp(brute_force, generate_cities(10))"
   ]
  },
  {
   "cell_type": "code",
   "execution_count": null,
   "metadata": {},
   "outputs": [],
   "source": []
  }
 ],
 "metadata": {
  "kernelspec": {
   "display_name": "Python 3",
   "language": "python",
   "name": "python3"
  },
  "language_info": {
   "codemirror_mode": {
    "name": "ipython",
    "version": 3
   },
   "file_extension": ".py",
   "mimetype": "text/x-python",
   "name": "python",
   "nbconvert_exporter": "python",
   "pygments_lexer": "ipython3",
   "version": "3.8.3"
  }
 },
 "nbformat": 4,
 "nbformat_minor": 4
}
