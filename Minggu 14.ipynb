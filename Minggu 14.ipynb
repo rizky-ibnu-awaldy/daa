{
 "cells": [
  {
   "cell_type": "markdown",
   "metadata": {},
   "source": [
    "# Studi Kasus Fraud Analytics"
   ]
  },
  {
   "cell_type": "code",
   "execution_count": 1,
   "metadata": {},
   "outputs": [],
   "source": [
    "# Import library yang akan digunakan\n",
    "import networkx as nx\n",
    "import matplotlib.pyplot as np"
   ]
  },
  {
   "cell_type": "code",
   "execution_count": 2,
   "metadata": {},
   "outputs": [],
   "source": [
    "# buat array berisi vertices dan edges yang akab disusun\n",
    "vertices = range(1,10)\n",
    "edges= [(7,2),(2,3),(7,4),(4,5),(7,3),(7,5),(1,6),(1,7),(2,8),(2,9)]"
   ]
  },
  {
   "cell_type": "code",
   "execution_count": 3,
   "metadata": {},
   "outputs": [],
   "source": [
    "# susun vertices menjadi nodes dan edges dalam grafik G\n",
    "G = nx.Graph()"
   ]
  },
  {
   "cell_type": "code",
   "execution_count": 4,
   "metadata": {},
   "outputs": [],
   "source": [
    "# susun vertices menjadi nodes dan edges dalam grafik G\n",
    "G.add_nodes_from(vertices)\n",
    "G.add_edges_from(edges)\n",
    "pos=nx.spring_layout(G)"
   ]
  },
  {
   "cell_type": "code",
   "execution_count": 5,
   "metadata": {},
   "outputs": [
    {
     "data": {
      "text/plain": [
       "{1: Text(0.20982952786244222, 0.6101017732034496, '1 NF'),\n",
       " 2: Text(0.09594650058936981, -0.4693222672071352, '2 F'),\n",
       " 3: Text(-0.1496857417684146, -0.25723343713541214, '3 NF'),\n",
       " 4: Text(-0.5650410761297576, 0.2193200465919354, '4 NF'),\n",
       " 5: Text(-0.42277403858366885, 0.4499860574832152, '5 F'),\n",
       " 6: Text(0.443998838951092, 1.0, '6 F'),\n",
       " 7: Text(-0.11416632789989538, 0.12130966180668304, '7 F'),\n",
       " 8: Text(0.48753682820426336, -0.7331947489452485, '8 NF'),\n",
       " 9: Text(0.014355488774569014, -0.9409670857974871, '9 NF')}"
      ]
     },
     "execution_count": 5,
     "metadata": {},
     "output_type": "execute_result"
    },
    {
     "data": {
      "image/png": "[encoded data removed]",
      "text/plain": [
       "<Figure size 432x288 with 1 Axes>"
      ]
     },
     "metadata": {},
     "output_type": "display_data"
    }
   ],
   "source": [
    "# Gambar nodes dan edges beserta labelnya menggunakan networkx. NF berwarna hijau, sedangkan F berwarna merah\n",
    "nx.draw_networkx_nodes(G,pos,nodelist=[1,4,3,8,9],with_labels=True,node_color='g',node_size=1300)\n",
    "\n",
    "nx.draw_networkx_nodes(G,pos,nodelist=[2,5,6,7],with_labels=True,node_color='r',node_size=1300)\n",
    "\n",
    "nx.draw_networkx_edges(G,pos,edges,width=3,alpha=0.5,edge_color='b')\n",
    "labels={}\n",
    "labels[1]=r'1 NF'\n",
    "labels[2]=r'2 F'\n",
    "labels[3]=r'3 NF'\n",
    "labels[4]=r'4 NF'\n",
    "labels[5]=r'5 F'\n",
    "labels[6]=r'6 F'\n",
    "labels[7]=r'7 F'\n",
    "labels[8]=r'8 NF'\n",
    "labels[9]=r'9 NF'\n",
    "\n",
    "nx.draw_networkx_labels(G,pos,labels,font_size=16)"
   ]
  },
  {
   "cell_type": "code",
   "execution_count": null,
   "metadata": {},
   "outputs": [],
   "source": []
  }
 ],
 "metadata": {
  "kernelspec": {
   "display_name": "Python 3",
   "language": "python",
   "name": "python3"
  },
  "language_info": {
   "codemirror_mode": {
    "name": "ipython",
    "version": 3
   },
   "file_extension": ".py",
   "mimetype": "text/x-python",
   "name": "python",
   "nbconvert_exporter": "python",
   "pygments_lexer": "ipython3",
   "version": "3.8.3"
  }
 },
 "nbformat": 4,
 "nbformat_minor": 4
}
